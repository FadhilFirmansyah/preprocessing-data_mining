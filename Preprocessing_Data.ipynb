{
  "nbformat": 4,
  "nbformat_minor": 0,
  "metadata": {
    "colab": {
      "provenance": []
    },
    "kernelspec": {
      "name": "python3",
      "display_name": "Python 3"
    },
    "language_info": {
      "name": "python"
    }
  },
  "cells": [
    {
      "cell_type": "markdown",
      "source": [
        "# Import Library"
      ],
      "metadata": {
        "id": "UcyH-12uF1g-"
      }
    },
    {
      "cell_type": "code",
      "source": [
        "import numpy as np\n",
        "import matplotlib.pyplot as plt\n",
        "import pandas as pd"
      ],
      "metadata": {
        "id": "pDMTe5UdF9or"
      },
      "execution_count": 1,
      "outputs": []
    },
    {
      "cell_type": "markdown",
      "source": [
        "# Import Dataset"
      ],
      "metadata": {
        "id": "zLgzTRUCGNkh"
      }
    },
    {
      "cell_type": "code",
      "source": [
        "dataset = pd.read_csv('/content/Data Kota Noise.csv')\n",
        "x = dataset.iloc[:, :-1].values\n",
        "y = dataset.iloc[:, -1].values"
      ],
      "metadata": {
        "id": "E6bW5hu3GSDw"
      },
      "execution_count": 2,
      "outputs": []
    },
    {
      "cell_type": "code",
      "source": [
        "print(x)\n",
        "print(y)"
      ],
      "metadata": {
        "colab": {
          "base_uri": "https://localhost:8080/"
        },
        "id": "_OWH2cuEG7AU",
        "outputId": "8f4cfa06-f9f0-4a92-96d7-1b0d89593ec8"
      },
      "execution_count": 3,
      "outputs": [
        {
          "output_type": "stream",
          "name": "stdout",
          "text": [
            "[['Semarang' 22.0 3000000.0]\n",
            " ['Bekasi' 23.0 4000000.0]\n",
            " ['Kalimantan Utara' 22.0 4500000.0]\n",
            " ['Kalimantan Timur' 24.0 nan]\n",
            " ['Purbalingga' 25.0 2500000.0]\n",
            " ['Purwokerto' 30.0 2750000.0]\n",
            " ['Jakarta' nan 5000000.0]\n",
            " ['Surbaya' 20.0 4200000.0]\n",
            " ['Bandung' 33.0 3000000.0]\n",
            " ['Solo' 32.0 2700000.0]]\n",
            "['No' 'No' 'Yes' 'No' 'Yes' 'No' 'Yes' 'No' 'Yes' 'Yes']\n"
          ]
        }
      ]
    },
    {
      "cell_type": "markdown",
      "source": [
        "# Menghilangkan Missing Value (NaN)"
      ],
      "metadata": {
        "id": "Xo9xfResHMRz"
      }
    },
    {
      "cell_type": "code",
      "source": [
        "from sklearn.impute import SimpleImputer\n",
        "imputer = SimpleImputer(missing_values=np.nan, strategy='mean')\n",
        "imputer.fit(x[:, 1:3])\n",
        "x[:, 1:3] = imputer.transform(x[:, 1:3])"
      ],
      "metadata": {
        "id": "lx7yqrN0HS3F"
      },
      "execution_count": 4,
      "outputs": []
    },
    {
      "cell_type": "code",
      "source": [
        "print(x)"
      ],
      "metadata": {
        "colab": {
          "base_uri": "https://localhost:8080/"
        },
        "id": "V8tI_Bp5Hpw5",
        "outputId": "77d3c15d-eb75-4a9a-ace1-70668b0c0762"
      },
      "execution_count": 5,
      "outputs": [
        {
          "output_type": "stream",
          "name": "stdout",
          "text": [
            "[['Semarang' 22.0 3000000.0]\n",
            " ['Bekasi' 23.0 4000000.0]\n",
            " ['Kalimantan Utara' 22.0 4500000.0]\n",
            " ['Kalimantan Timur' 24.0 3516666.6666666665]\n",
            " ['Purbalingga' 25.0 2500000.0]\n",
            " ['Purwokerto' 30.0 2750000.0]\n",
            " ['Jakarta' 25.666666666666668 5000000.0]\n",
            " ['Surbaya' 20.0 4200000.0]\n",
            " ['Bandung' 33.0 3000000.0]\n",
            " ['Solo' 32.0 2700000.0]]\n"
          ]
        }
      ]
    },
    {
      "cell_type": "markdown",
      "source": [
        "# Encoding Data Category (Atribut)"
      ],
      "metadata": {
        "id": "1BP6fMlyH3zU"
      }
    },
    {
      "cell_type": "code",
      "source": [
        "from sklearn.compose import ColumnTransformer\n",
        "from sklearn.preprocessing import OneHotEncoder\n",
        "ct = ColumnTransformer(transformers=[('encoder', OneHotEncoder(), [0])], remainder='passthrough')\n",
        "x = np.array(ct.fit_transform(x))"
      ],
      "metadata": {
        "id": "cNw_y3-eH9f9"
      },
      "execution_count": 6,
      "outputs": []
    },
    {
      "cell_type": "code",
      "source": [
        "print(x)"
      ],
      "metadata": {
        "colab": {
          "base_uri": "https://localhost:8080/"
        },
        "id": "Ru-KSDqIIMsY",
        "outputId": "7e98ccd4-bcb7-4448-8a21-77b0ee1db4fb"
      },
      "execution_count": 7,
      "outputs": [
        {
          "output_type": "stream",
          "name": "stdout",
          "text": [
            "  (0, 7)\t1.0\n",
            "  (0, 10)\t22.0\n",
            "  (0, 11)\t3000000.0\n",
            "  (1, 1)\t1.0\n",
            "  (1, 10)\t23.0\n",
            "  (1, 11)\t4000000.0\n",
            "  (2, 4)\t1.0\n",
            "  (2, 10)\t22.0\n",
            "  (2, 11)\t4500000.0\n",
            "  (3, 3)\t1.0\n",
            "  (3, 10)\t24.0\n",
            "  (3, 11)\t3516666.6666666665\n",
            "  (4, 5)\t1.0\n",
            "  (4, 10)\t25.0\n",
            "  (4, 11)\t2500000.0\n",
            "  (5, 6)\t1.0\n",
            "  (5, 10)\t30.0\n",
            "  (5, 11)\t2750000.0\n",
            "  (6, 2)\t1.0\n",
            "  (6, 10)\t25.666666666666668\n",
            "  (6, 11)\t5000000.0\n",
            "  (7, 9)\t1.0\n",
            "  (7, 10)\t20.0\n",
            "  (7, 11)\t4200000.0\n",
            "  (8, 0)\t1.0\n",
            "  (8, 10)\t33.0\n",
            "  (8, 11)\t3000000.0\n",
            "  (9, 8)\t1.0\n",
            "  (9, 10)\t32.0\n",
            "  (9, 11)\t2700000.0\n"
          ]
        }
      ]
    },
    {
      "cell_type": "markdown",
      "source": [
        "# Encoding Data Category (Class/Label)"
      ],
      "metadata": {
        "id": "ZyY2pJddIU4x"
      }
    },
    {
      "cell_type": "code",
      "source": [
        "from sklearn.preprocessing import LabelEncoder\n",
        "le = LabelEncoder()\n",
        "y = le.fit_transform(y)"
      ],
      "metadata": {
        "id": "ch6RjOhDIakg"
      },
      "execution_count": 8,
      "outputs": []
    },
    {
      "cell_type": "code",
      "source": [
        "print(y)"
      ],
      "metadata": {
        "colab": {
          "base_uri": "https://localhost:8080/"
        },
        "id": "MzVw6Lb9IlHs",
        "outputId": "698a88c1-5bca-4713-edca-e5910ed511c5"
      },
      "execution_count": 9,
      "outputs": [
        {
          "output_type": "stream",
          "name": "stdout",
          "text": [
            "[0 0 1 0 1 0 1 0 1 1]\n"
          ]
        }
      ]
    },
    {
      "cell_type": "markdown",
      "source": [
        "# Membagi Dataset ke Training set & Test set"
      ],
      "metadata": {
        "id": "CkVxMAVAIuUS"
      }
    },
    {
      "cell_type": "code",
      "source": [
        "import numpy as np\n",
        "from sklearn.model_selection import train_test_split\n",
        "\n",
        "x = x[0, 0]\n",
        "x = x.toarray().reshape(10, -1)\n",
        "\n",
        "x_train, x_test, y_train, y_test = train_test_split(x, y, test_size=0.2, random_state=1)"
      ],
      "metadata": {
        "id": "bWdVq4CgI2I9"
      },
      "execution_count": 14,
      "outputs": []
    },
    {
      "cell_type": "code",
      "source": [
        "print(x_train)"
      ],
      "metadata": {
        "colab": {
          "base_uri": "https://localhost:8080/"
        },
        "id": "MOXbAHqdJIL8",
        "outputId": "0ffb0739-a700-444c-dbd3-ae525472db57"
      },
      "execution_count": 15,
      "outputs": [
        {
          "output_type": "stream",
          "name": "stdout",
          "text": [
            "[[0.00000000e+00 0.00000000e+00 1.00000000e+00 0.00000000e+00\n",
            "  0.00000000e+00 0.00000000e+00 0.00000000e+00 0.00000000e+00\n",
            "  0.00000000e+00 0.00000000e+00 2.56666667e+01 5.00000000e+06]\n",
            " [0.00000000e+00 0.00000000e+00 0.00000000e+00 0.00000000e+00\n",
            "  0.00000000e+00 1.00000000e+00 0.00000000e+00 0.00000000e+00\n",
            "  0.00000000e+00 0.00000000e+00 2.50000000e+01 2.50000000e+06]\n",
            " [0.00000000e+00 0.00000000e+00 0.00000000e+00 0.00000000e+00\n",
            "  0.00000000e+00 0.00000000e+00 0.00000000e+00 1.00000000e+00\n",
            "  0.00000000e+00 0.00000000e+00 2.20000000e+01 3.00000000e+06]\n",
            " [0.00000000e+00 0.00000000e+00 0.00000000e+00 1.00000000e+00\n",
            "  0.00000000e+00 0.00000000e+00 0.00000000e+00 0.00000000e+00\n",
            "  0.00000000e+00 0.00000000e+00 2.40000000e+01 3.51666667e+06]\n",
            " [0.00000000e+00 1.00000000e+00 0.00000000e+00 0.00000000e+00\n",
            "  0.00000000e+00 0.00000000e+00 0.00000000e+00 0.00000000e+00\n",
            "  0.00000000e+00 0.00000000e+00 2.30000000e+01 4.00000000e+06]\n",
            " [0.00000000e+00 0.00000000e+00 0.00000000e+00 0.00000000e+00\n",
            "  0.00000000e+00 0.00000000e+00 0.00000000e+00 0.00000000e+00\n",
            "  0.00000000e+00 1.00000000e+00 2.00000000e+01 4.20000000e+06]\n",
            " [1.00000000e+00 0.00000000e+00 0.00000000e+00 0.00000000e+00\n",
            "  0.00000000e+00 0.00000000e+00 0.00000000e+00 0.00000000e+00\n",
            "  0.00000000e+00 0.00000000e+00 3.30000000e+01 3.00000000e+06]\n",
            " [0.00000000e+00 0.00000000e+00 0.00000000e+00 0.00000000e+00\n",
            "  0.00000000e+00 0.00000000e+00 1.00000000e+00 0.00000000e+00\n",
            "  0.00000000e+00 0.00000000e+00 3.00000000e+01 2.75000000e+06]]\n"
          ]
        }
      ]
    },
    {
      "cell_type": "code",
      "source": [
        "print(x_test)"
      ],
      "metadata": {
        "colab": {
          "base_uri": "https://localhost:8080/"
        },
        "id": "Jg80QHjKJKz8",
        "outputId": "43ab0ffd-a630-409a-db13-ccffa13cb96e"
      },
      "execution_count": 16,
      "outputs": [
        {
          "output_type": "stream",
          "name": "stdout",
          "text": [
            "[[0.0e+00 0.0e+00 0.0e+00 0.0e+00 1.0e+00 0.0e+00 0.0e+00 0.0e+00 0.0e+00\n",
            "  0.0e+00 2.2e+01 4.5e+06]\n",
            " [0.0e+00 0.0e+00 0.0e+00 0.0e+00 0.0e+00 0.0e+00 0.0e+00 0.0e+00 1.0e+00\n",
            "  0.0e+00 3.2e+01 2.7e+06]]\n"
          ]
        }
      ]
    },
    {
      "cell_type": "code",
      "source": [
        "print(y_train)"
      ],
      "metadata": {
        "colab": {
          "base_uri": "https://localhost:8080/"
        },
        "id": "tTvZG9IVJNUR",
        "outputId": "86f35d09-4f3b-485b-8396-3380c7188aca"
      },
      "execution_count": 17,
      "outputs": [
        {
          "output_type": "stream",
          "name": "stdout",
          "text": [
            "[1 1 0 0 0 0 1 0]\n"
          ]
        }
      ]
    },
    {
      "cell_type": "code",
      "source": [
        "print(y_test)"
      ],
      "metadata": {
        "colab": {
          "base_uri": "https://localhost:8080/"
        },
        "id": "KR82s2YgJPI7",
        "outputId": "4e21780f-8ed9-4502-b1a4-8ffaf6964096"
      },
      "execution_count": 18,
      "outputs": [
        {
          "output_type": "stream",
          "name": "stdout",
          "text": [
            "[1 1]\n"
          ]
        }
      ]
    },
    {
      "cell_type": "markdown",
      "source": [
        "# Feature Scaling"
      ],
      "metadata": {
        "id": "1CzNCHFoKbG-"
      }
    },
    {
      "cell_type": "code",
      "source": [
        "from sklearn.preprocessing import  StandardScaler\n",
        "sc = StandardScaler()\n",
        "x_train[:, 3:] = sc.fit_transform(x_train[:, 3:])\n",
        "x_test[:, 3:] = sc.transform(x_test[:, 3:])"
      ],
      "metadata": {
        "id": "693vRS_qKepw"
      },
      "execution_count": 19,
      "outputs": []
    },
    {
      "cell_type": "code",
      "source": [
        "print(x_train)"
      ],
      "metadata": {
        "colab": {
          "base_uri": "https://localhost:8080/"
        },
        "id": "xWxpHew-KsAb",
        "outputId": "4619bfb1-e184-4406-8dd9-de2b1c5752f4"
      },
      "execution_count": 20,
      "outputs": [
        {
          "output_type": "stream",
          "name": "stdout",
          "text": [
            "[[ 0.          0.          1.         -0.37796447  0.         -0.37796447\n",
            "  -0.37796447 -0.37796447  0.         -0.37796447  0.08347839  1.89270018]\n",
            " [ 0.          0.          0.         -0.37796447  0.          2.64575131\n",
            "  -0.37796447 -0.37796447  0.         -0.37796447 -0.08347839 -1.25306189]\n",
            " [ 0.          0.          0.         -0.37796447  0.         -0.37796447\n",
            "  -0.37796447  2.64575131  0.         -0.37796447 -0.83478387 -0.62390948]\n",
            " [ 0.          0.          0.          2.64575131  0.         -0.37796447\n",
            "  -0.37796447 -0.37796447  0.         -0.37796447 -0.33391355  0.02621468]\n",
            " [ 0.          1.          0.         -0.37796447  0.         -0.37796447\n",
            "  -0.37796447 -0.37796447  0.         -0.37796447 -0.58434871  0.63439535]\n",
            " [ 0.          0.          0.         -0.37796447  0.         -0.37796447\n",
            "  -0.37796447 -0.37796447  0.          2.64575131 -1.33565419  0.88605632]\n",
            " [ 1.          0.          0.         -0.37796447  0.         -0.37796447\n",
            "  -0.37796447 -0.37796447  0.         -0.37796447  1.9200029  -0.62390948]\n",
            " [ 0.          0.          0.         -0.37796447  0.         -0.37796447\n",
            "   2.64575131 -0.37796447  0.         -0.37796447  1.16869742 -0.93848568]]\n"
          ]
        }
      ]
    },
    {
      "cell_type": "code",
      "source": [
        "print(y_train)"
      ],
      "metadata": {
        "colab": {
          "base_uri": "https://localhost:8080/"
        },
        "id": "6gEWghf_Ktzj",
        "outputId": "942a6bc8-8b44-4e8f-992d-a458ad6b1049"
      },
      "execution_count": 21,
      "outputs": [
        {
          "output_type": "stream",
          "name": "stdout",
          "text": [
            "[1 1 0 0 0 0 1 0]\n"
          ]
        }
      ]
    }
  ]
}